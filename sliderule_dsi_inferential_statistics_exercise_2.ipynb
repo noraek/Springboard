{
 "cells": [
  {
   "cell_type": "markdown",
   "metadata": {},
   "source": [
    "# Examining Racial Discrimination in the US Job Market\n",
    "\n",
    "### Background\n",
    "Racial discrimination continues to be pervasive in cultures throughout the world. Researchers examined the level of racial discrimination in the United States labor market by randomly assigning identical résumés to black-sounding or white-sounding names and observing the impact on requests for interviews from employers.\n",
    "\n",
    "### Data\n",
    "In the dataset provided, each row represents a resume. The 'race' column has two values, 'b' and 'w', indicating black-sounding and white-sounding. The column 'call' has two values, 1 and 0, indicating whether the resume received a call from employers or not.\n",
    "\n",
    "Note that the 'b' and 'w' values in race are assigned randomly to the resumes when presented to the employer."
   ]
  },
  {
   "cell_type": "markdown",
   "metadata": {},
   "source": [
    "### Exercises\n",
    "You will perform a statistical analysis to establish whether race has a significant impact on the rate of callbacks for resumes.\n",
    "\n",
    "Answer the following questions **in this notebook below and submit to your Github account**. \n",
    "\n",
    "   1. What test is appropriate for this problem? Does CLT apply?\n",
    "   2. What are the null and alternate hypotheses?\n",
    "   3. Compute margin of error, confidence interval, and p-value. Try using both the bootstrapping and the frequentist statistical approaches.\n",
    "   4. Write a story describing the statistical significance in the context or the original problem.\n",
    "   5. Does your analysis mean that race/name is the most important factor in callback success? Why or why not? If not, how would you amend your analysis?\n",
    "\n",
    "You can include written notes in notebook cells using Markdown: \n",
    "   - In the control panel at the top, choose Cell > Cell Type > Markdown\n",
    "   - Markdown syntax: http://nestacms.com/docs/creating-content/markdown-cheat-sheet\n",
    "\n",
    "#### Resources\n",
    "+ Experiment information and data source: http://www.povertyactionlab.org/evaluation/discrimination-job-market-united-states\n",
    "+ Scipy statistical methods: http://docs.scipy.org/doc/scipy/reference/stats.html \n",
    "+ Markdown syntax: http://nestacms.com/docs/creating-content/markdown-cheat-sheet\n",
    "+ Formulas for the Bernoulli distribution: https://en.wikipedia.org/wiki/Bernoulli_distribution"
   ]
  },
  {
   "cell_type": "code",
   "execution_count": 9,
   "metadata": {},
   "outputs": [],
   "source": [
    "import pandas as pd\n",
    "import numpy as np\n",
    "from scipy import stats\n",
    "import matplotlib.pyplot as plt\n",
    "import math\n"
   ]
  },
  {
   "cell_type": "code",
   "execution_count": 10,
   "metadata": {},
   "outputs": [],
   "source": [
    "data = pd.io.stata.read_stata('data/us_job_market_discrimination.dta')"
   ]
  },
  {
   "cell_type": "code",
   "execution_count": 11,
   "metadata": {},
   "outputs": [
    {
     "name": "stdout",
     "output_type": "stream",
     "text": [
      "Number of Black Applicants: 2435\n",
      "Number of White Applicants: 2435\n",
      "Total Applicants: 4870\n"
     ]
    }
   ],
   "source": [
    "totalapplicants = data['race'].count\n",
    "black_applicants = data['race']=='b'\n",
    "white_applicants = data['race']=='w'\n",
    "\n",
    "print(\"Number of Black Applicants:\", np.sum(black_applicants))\n",
    "print(\"Number of White Applicants:\", np.sum(white_applicants))\n",
    "print(\"Total Applicants:\", 4870)\n"
   ]
  },
  {
   "cell_type": "code",
   "execution_count": 12,
   "metadata": {},
   "outputs": [
    {
     "name": "stdout",
     "output_type": "stream",
     "text": [
      "Calls for White Sounding Names: 235.0\n",
      "Calls for Black Sounding Names: 157.0\n",
      "Call Mean - White: 0.097\n",
      "Call Mean - Black: 0.064\n",
      "Call Variance - White: 0.087\n",
      "Call Variance - Black: 0.06\n"
     ]
    }
   ],
   "source": [
    "# number of callbacks for black-sounding names\n",
    "print(\"Calls for White Sounding Names:\", sum(data[data.race=='w'].call))\n",
    "print(\"Calls for Black Sounding Names:\", sum(data[data.race=='b'].call))\n",
    "\n",
    "print(\"Call Mean - White:\", round(np.mean(data[data.race=='w'].call), 3))\n",
    "print(\"Call Mean - Black:\", round(np.mean(data[data.race=='b'].call), 3))\n",
    "\n",
    "print(\"Call Variance - White:\", round(np.var(data[data.race=='w'].call), 3))\n",
    "print(\"Call Variance - Black:\", round(np.var(data[data.race=='b'].call), 3))"
   ]
  },
  {
   "cell_type": "markdown",
   "metadata": {
    "collapsed": true
   },
   "source": [
    "<div class=\"span5 alert alert-success\">\n",
    "<p>1.  What test is approriate for this problem?  The difference of means is an appropriate test statistic.</p>\n",
    "    <p>2.  What are the null and alternate hypotheses?  The <b>null hypothesis</b> $H_{0}$ is that there is no difference between the number of calls received for resumes from applicants with black sounding sames as for those with white sounding names.  The <b>alternative hypothesis</b> $H_{alt}$ is that applicants with black sounding names received calls at a lower rate.</p>\n",
    "</div>"
   ]
  },
  {
   "cell_type": "code",
   "execution_count": 13,
   "metadata": {},
   "outputs": [],
   "source": [
    "w = data[data.race=='w'].call\n",
    "b = data[data.race=='b'].call"
   ]
  },
  {
   "cell_type": "code",
   "execution_count": 14,
   "metadata": {},
   "outputs": [
    {
     "name": "stdout",
     "output_type": "stream",
     "text": [
      "p =  0.0\n"
     ]
    }
   ],
   "source": [
    "#Bootstrap replication\n",
    "bs_replicates_w = np.empty(10000)\n",
    "bs_replicates_b = np.empty(10000)\n",
    "\n",
    "def bootstrap_replicate_id(data, func):\n",
    "    bs_sample = np.random.choice(data, len(data))\n",
    "    return func(bs_sample)\n",
    "\n",
    "for i in range(10000):\n",
    "    bs_replicates_w[i] = bootstrap_replicate_id(w, np.mean)\n",
    "    \n",
    "for i in range(10000):\n",
    "    bs_replicates_b[i] = bootstrap_replicate_id(b, np.mean)\n",
    "\n",
    "\n",
    "p = np.sum(bs_replicates_b >= bs_replicates_w)/len(bs_replicates_w)\n",
    "\n",
    "print(\"p = \", p)"
   ]
  },
  {
   "cell_type": "markdown",
   "metadata": {},
   "source": [
    "Difference of Two Means\n",
    "\n",
    "$\\ z = \\frac{(.097-.064)-0}{\\sqrt{{\\frac{.087}{2435}}+{\\frac{.06}{2435}}}}$ \n",
    "\n",
    "$\\ z = 4.24$\n",
    "\n",
    "The probablity of the two means being equal with this z score is 0.0000\n"
   ]
  },
  {
   "cell_type": "code",
   "execution_count": 17,
   "metadata": {},
   "outputs": [
    {
     "data": {
      "image/png": "[encoded data removed]",
      "text/plain": [
       "<Figure size 432x288 with 1 Axes>"
      ]
     },
     "metadata": {
      "needs_background": "light"
     },
     "output_type": "display_data"
    }
   ],
   "source": [
    "_ = plt.hist(bs_replicates_b, density=True, bins = 40, color='blue')\n",
    "_ = plt.hist(bs_replicates_w, density=True, bins = 40, color='red')\n",
    "_ = plt.xlabel(\"call back mean percentage\")\n",
    "_ = plt.ylabel(\"count\")\n",
    "_ = plt.legend(\"bw\")\n",
    "plt.show()"
   ]
  },
  {
   "cell_type": "code",
   "execution_count": 79,
   "metadata": {},
   "outputs": [
    {
     "name": "stdout",
     "output_type": "stream",
     "text": [
      "Average call rate for Black Names = 0.065\n",
      "Standard Error: 0.002\n",
      "Margin of Error: 0.004\n",
      "Confidence Intervals [2.5%, 97.5%]: [0.05462012 0.07474332]\n",
      "p value: 0.0\n"
     ]
    }
   ],
   "source": [
    "#Margin of Error: 2 x Standard Error\n",
    "StandardError = round(math.sqrt((np.mean(bs_replicates_b)) * (1-np.mean(bs_replicates_b))/10000),3)\n",
    "ConfidenceIntervals = np.percentile(bs_replicates_b, [2.5, 97.5])\n",
    "print(\"Average call rate for Black Names =\", round(np.mean(bs_replicates_b), 3))\n",
    "print(\"Standard Error:\", StandardError)\n",
    "print(\"Margin of Error:\", 2*StandardError)\n",
    "print(\"Confidence Intervals [2.5%, 97.5%]:\", ConfidenceIntervals)\n",
    "print(\"p value:\", p)"
   ]
  },
  {
   "cell_type": "markdown",
   "metadata": {},
   "source": [
    "Write a story describing the statistical significance in the context or the original problem.\n",
    "Does your analysis mean that race/name is the most important factor in callback success? Why or why not? If not, how would you amend your analysis?\n",
    "\n",
    "The initial question asked of this dataset asked if subtle forms of racism, in the form of job applicant discrimination, could be identified in a blind sample.  In this well designed study, only the name of the applicant varied; experience, education and age all remained the same.  Through a one-tailed probablility test and difference of means bootstrap analysis, the null hypothesis that black and white applicants were called at the same rate was not confirmed at a 0.01 p value.  This means that the two groups were called back at significantly difference rates, with black sounding applicants being called less than white sounding applicants.  Race is an important factor in callback success.\n",
    "\n",
    "This assignment does not seek to answer the potential reasons for this disparity.  Determining the cause of the problem would be a more challenging statistical exercise."
   ]
  }
 ],
 "metadata": {
  "kernelspec": {
   "display_name": "Python 3",
   "language": "python",
   "name": "python3"
  },
  "language_info": {
   "codemirror_mode": {
    "name": "ipython",
    "version": 3
   },
   "file_extension": ".py",
   "mimetype": "text/x-python",
   "name": "python",
   "nbconvert_exporter": "python",
   "pygments_lexer": "ipython3",
   "version": "3.7.1"
  }
 },
 "nbformat": 4,
 "nbformat_minor": 1
}
