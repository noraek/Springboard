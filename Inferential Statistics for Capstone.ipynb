{
 "cells": [
  {
   "cell_type": "code",
   "execution_count": 1,
   "metadata": {},
   "outputs": [],
   "source": [
    "import pandas as pd\n",
    "import seaborn as sns\n",
    "import matplotlib.pyplot as plt"
   ]
  },
  {
   "cell_type": "code",
   "execution_count": 4,
   "metadata": {},
   "outputs": [],
   "source": [
    "#Import data\n",
    "\n",
    "totalcol = pd.read_csv('totalcol.csv')"
   ]
  },
  {
   "cell_type": "code",
   "execution_count": 5,
   "metadata": {},
   "outputs": [
    {
     "data": {
      "text/plain": [
       "library_onsite_Never            -0.993294\n",
       "visit_freq_Unknown              -0.439133\n",
       "broadband_Unknown               -0.258156\n",
       "email_use_No                    -0.251127\n",
       "library_website_Never           -0.210241\n",
       "home_int_Unknown                -0.209376\n",
       "education_level_No HS           -0.183632\n",
       "reg_voter_Probably              -0.146200\n",
       "home_int_No                     -0.135762\n",
       "education_level_Some HS         -0.130957\n",
       "mobile_phone_No                 -0.130668\n",
       "income_<$10K                    -0.128732\n",
       "race_Hispanic                   -0.127637\n",
       "smartphone_Unknown              -0.122513\n",
       "education_level_HS Grad         -0.107284\n",
       "income_$10K-$20K                -0.096331\n",
       "sex_Male                        -0.084585\n",
       "library_onsite_Unknown          -0.082050\n",
       "is_parent_Unknown               -0.081631\n",
       "education_level_Unknown         -0.080063\n",
       "emplnw_Disabled                 -0.078994\n",
       "smartphone_No                   -0.077471\n",
       "ideology_Unknown                -0.076320\n",
       "income_Unknown                  -0.074840\n",
       "marital_Separated               -0.066860\n",
       "number_in_hh_Refused            -0.064984\n",
       "smartphone_Refused              -0.054147\n",
       "party_Unknown                   -0.052814\n",
       "race_Black                      -0.050464\n",
       "library_website_Refused         -0.047348\n",
       "                                   ...   \n",
       "Unnamed: 0                       0.054390\n",
       "income_$50K-$75K                 0.054832\n",
       "education_level_Some College     0.064123\n",
       "library_website_Yes, > 12 Mo.    0.064206\n",
       "income_$100K-$150K               0.067439\n",
       "marital_Married                  0.070323\n",
       "education_level_Assoc Degree     0.073353\n",
       "sex_Female                       0.084585\n",
       "education_level_Bach Degree      0.088282\n",
       "number_in_hh_Suburb              0.089523\n",
       "income_$75K-$100K                0.101932\n",
       "education_level_Grad School      0.112890\n",
       "visit_freq_Weekly                0.123267\n",
       "visit_freq_Semi-Monthly          0.129330\n",
       "mobile_phone_Yes                 0.130579\n",
       "race_White                       0.132027\n",
       "smartphone_Yes                   0.154314\n",
       "reg_voter_Definitely             0.155690\n",
       "inc_ordinal                      0.173740\n",
       "visit_freq_Monthly               0.179786\n",
       "library_website_Yes, < 12 Mo.    0.196715\n",
       "visit_freq_Less Often            0.238233\n",
       "email_use_Yes                    0.251890\n",
       "educ2_ordinal                    0.254628\n",
       "home_int_Yes                     0.265067\n",
       "broadband_Higher Speed           0.265867\n",
       "library_onsite_Yes, > 12 Mo.     0.348034\n",
       "library_onsite_Yes, < 12 Mo.     0.440457\n",
       "libusea_ordinal                  0.804076\n",
       "has_visited                      1.000000\n",
       "Name: has_visited, Length: 127, dtype: float64"
      ]
     },
     "execution_count": 5,
     "metadata": {},
     "output_type": "execute_result"
    }
   ],
   "source": [
    "#convert remaining categorical values to 0/1 dummy values\n",
    "\n",
    "totalcol_origin = pd.get_dummies(totalcol)\n",
    "\n",
    "c = totalcol_origin.corr()\n",
    "\n",
    "# sort results of correlation by values\n",
    "c['has_visited'].sort_values().drop_duplicates()"
   ]
  },
  {
   "cell_type": "markdown",
   "metadata": {},
   "source": [
    "In the visualization portion of the report, some features had components that appeared to have a significant difference for those that had visited the library in the past and those that hadn't.  I decided to test whether or not there was a statistically significant difference using a one sized proportion z test.  "
   ]
  },
  {
   "cell_type": "code",
   "execution_count": 6,
   "metadata": {},
   "outputs": [
    {
     "data": {
      "image/png": "[encoded data removed]",
      "text/plain": [
       "<Figure size 432x288 with 1 Axes>"
      ]
     },
     "metadata": {
      "needs_background": "light"
     },
     "output_type": "display_data"
    }
   ],
   "source": [
    "#Visualization of Library Visitation by Marital Status\n",
    "\n",
    "df = totalcol\n",
    "x, y, hue = \"marital\", \"prop\", \"has_visited\"\n",
    "\n",
    "prop_df = (df[x]\n",
    "           .groupby(df[hue])\n",
    "           .value_counts(normalize=True)\n",
    "           .rename(y)\n",
    "           .reset_index())\n",
    "\n",
    "sns.barplot(x=x, y=y, hue=hue, data=prop_df)\n",
    "_ = plt.xticks(rotation=90)\n",
    "_ = plt.title(\"Proportion of Library Visitation by Marital Status\")\n",
    "plt.show()"
   ]
  },
  {
   "cell_type": "code",
   "execution_count": 7,
   "metadata": {},
   "outputs": [
    {
     "name": "stdout",
     "output_type": "stream",
     "text": [
      "Married          923\n",
      "Never Married    501\n",
      "Widowed          199\n",
      "Divorced         195\n",
      "Cohabitating     109\n",
      "Separated         65\n",
      "Refused            9\n",
      "Unknown            3\n",
      "Name: marital, dtype: int64\n",
      "1    1639\n",
      "0     365\n",
      "Name: has_visited, dtype: int64\n",
      "marital        has_visited\n",
      "Cohabitating   1               87\n",
      "               0               22\n",
      "Divorced       1              154\n",
      "               0               41\n",
      "Married        1              782\n",
      "               0              141\n",
      "Never Married  1              404\n",
      "               0               97\n",
      "Refused        1                8\n",
      "               0                1\n",
      "Separated      1               44\n",
      "               0               21\n",
      "Unknown        1                2\n",
      "               0                1\n",
      "Widowed        1              158\n",
      "               0               41\n",
      "Name: has_visited, dtype: int64\n",
      "    has_visited        marital      prop\n",
      "0             0        Married  0.386301\n",
      "1             0  Never Married  0.265753\n",
      "2             0       Divorced  0.112329\n",
      "3             0        Widowed  0.112329\n",
      "4             0   Cohabitating  0.060274\n",
      "5             0      Separated  0.057534\n",
      "6             0        Refused  0.002740\n",
      "7             0        Unknown  0.002740\n",
      "8             1        Married  0.477120\n",
      "9             1  Never Married  0.246492\n",
      "10            1        Widowed  0.096400\n",
      "11            1       Divorced  0.093960\n",
      "12            1   Cohabitating  0.053081\n",
      "13            1      Separated  0.026846\n",
      "14            1        Refused  0.004881\n",
      "15            1        Unknown  0.001220\n"
     ]
    }
   ],
   "source": [
    "#Numeric values related to Married people visiting the library\n",
    "\n",
    "x, y, hue = \"marital\", \"prop\", \"has_visited\"\n",
    "\n",
    "prop_df = (df[x]\n",
    "           .groupby(df[hue])\n",
    "           .value_counts(normalize=True)\n",
    "           .rename(y)\n",
    "           .reset_index())\n",
    "\n",
    "#print(prop_df)\n",
    "\n",
    "print(\"Breakdown of Marital Status of Respobdents:\", totalcol['marital'].value_counts())\n",
    "print(\"Number of Respondents by Visitation:\", totalcol['has_visited'].value_counts())\n",
    "print(\"Combination of Marital Status and Visitation:\", totalcol['has_visited'].groupby(totalcol['marital']).value_counts())\n",
    "print(\"Proportion by Marital Status and Visitation:\", prop_df)"
   ]
  },
  {
   "cell_type": "markdown",
   "metadata": {},
   "source": [
    "<h3>First Example</h3><br>\n",
    "\n",
    "<h4>1 sided z test with a significance level of 0.01</h4>\n",
    "Is marital status a significant predictor of library visitation?<br>\n",
    "<br>\n",
    "<u>Values:</u><br>\n",
    "Population 1: Married and hasn't visited<br>\n",
    "Proportion= .386301<br>\n",
    "n = 365<br>\n",
    "<br>\n",
    "Population 2: Married and has visited<br>\n",
    "Proportion -= .47712<br>\n",
    "n = 1639<br>\n",
    "<br>\n",
    "$H_{0}$ = $P_{1}$ >= $P_{2}$<br>\n",
    "$H_{alt}$ = $P_{1}$ < $P_{2}$<br>\n",
    "\n",
    "\n",
    "$\\ p = \\frac{(p1 * n1 + p2 * n2)}{(n1 + n2)}$<br>\n",
    "\n",
    "$\\ p = \\frac{(.386301 * 365 + .47712 * 1639)}{365+1639}$<br>\n",
    "\n",
    "p=0.4606<br>\n",
    "<br>\n",
    "<h4> Standard Error</h4>\n",
    "$\\ SE = \\sqrt{p(1-p) * (\\frac{1}{n1} + \\frac{1}{n2})}$<br>\n",
    "\n",
    "$\\ SE = \\sqrt{(0.4606(1-.4606) * (\\frac{1}{365} + \\frac{1}{1639}))}$<br>\n",
    "<br>\n",
    "SE = 0.0288<br>\n",
    "<br>\n",
    "<h4> z score </h4>\n",
    "$\\ z = \\frac{p1 - p2}{SE}$<br>\n",
    "$\\ z = \\frac{.3863 - .47712}{.0288}$<br>\n",
    "z = -3.15\n",
    "\n",
    "Probability of a z value of -3.15 = 0.0008<br>\n",
    "0.0008 is less than 0.01.  The null hypothesis is <b>rejected</b>.<br>\n",
    "Married people are more likely to go have visited the library than not."
   ]
  },
  {
   "cell_type": "markdown",
   "metadata": {},
   "source": [
    "<h3>Second example: Education level - High School Diploma vs Bachelor's Degree</h3>\n",
    "Is high school graduation a significant predictor of library visitation?"
   ]
  },
  {
   "cell_type": "code",
   "execution_count": 8,
   "metadata": {},
   "outputs": [
    {
     "data": {
      "image/png": "[encoded data removed]",
      "text/plain": [
       "<Figure size 432x288 with 1 Axes>"
      ]
     },
     "metadata": {
      "needs_background": "light"
     },
     "output_type": "display_data"
    }
   ],
   "source": [
    "#Library Visitation by Education Level\n",
    "\n",
    "df = totalcol\n",
    "x, y, hue = \"educ2_ordinal\", \"prop\", \"has_visited\"\n",
    "\n",
    "prop_df = (df[x]\n",
    "           .groupby(df[hue])\n",
    "           .value_counts(normalize=True)\n",
    "           .rename(y)\n",
    "           .reset_index())\n",
    "\n",
    "sns.barplot(x=x, y=y, hue=hue, data=prop_df)\n",
    "_ = plt.xticks(range(9), ['Unknown', 'No HS', 'Some HS', 'HS Grad', 'Some College', 'Assoc Degree', 'Bach Degree', 'Some Grad School', 'Grad Degree'], rotation=90)\n",
    "_ = plt.xlabel(\"Education Level\")\n",
    "_ = plt.title(\"Proportion of Library Visitation by Education Level\")\n",
    "plt.show()"
   ]
  },
  {
   "cell_type": "code",
   "execution_count": 10,
   "metadata": {},
   "outputs": [
    {
     "name": "stdout",
     "output_type": "stream",
     "text": [
      "HS Grad             549\n",
      "Bach Degree         390\n",
      "Some College        294\n",
      "Grad School         282\n",
      "Assoc Degree        204\n",
      "Some HS             181\n",
      "No HS                65\n",
      "Some Grad School     27\n",
      "Refused               7\n",
      "Unknown               5\n",
      "Name: education_level, dtype: int64\n",
      "1    1639\n",
      "0     365\n",
      "Name: has_visited, dtype: int64\n",
      "education_level   has_visited\n",
      "Assoc Degree      1              184\n",
      "                  0               20\n",
      "Bach Degree       1              346\n",
      "                  0               44\n",
      "Grad School       1              261\n",
      "                  0               21\n",
      "HS Grad           1              412\n",
      "                  0              137\n",
      "No HS             0               37\n",
      "                  1               28\n",
      "Refused           1                4\n",
      "                  0                3\n",
      "Some College      1              258\n",
      "                  0               36\n",
      "Some Grad School  1               26\n",
      "                  0                1\n",
      "Some HS           1              119\n",
      "                  0               62\n",
      "Unknown           0                4\n",
      "                  1                1\n",
      "Name: has_visited, dtype: int64\n",
      "    has_visited   education_level      prop\n",
      "0             0           HS Grad  0.375342\n",
      "1             0           Some HS  0.169863\n",
      "2             0       Bach Degree  0.120548\n",
      "3             0             No HS  0.101370\n",
      "4             0      Some College  0.098630\n",
      "5             0       Grad School  0.057534\n",
      "6             0      Assoc Degree  0.054795\n",
      "7             0           Unknown  0.010959\n",
      "8             0           Refused  0.008219\n",
      "9             0  Some Grad School  0.002740\n",
      "10            1           HS Grad  0.251373\n",
      "11            1       Bach Degree  0.211104\n",
      "12            1       Grad School  0.159243\n",
      "13            1      Some College  0.157413\n",
      "14            1      Assoc Degree  0.112264\n",
      "15            1           Some HS  0.072605\n",
      "16            1             No HS  0.017084\n",
      "17            1  Some Grad School  0.015863\n",
      "18            1           Refused  0.002441\n",
      "19            1           Unknown  0.000610\n"
     ]
    }
   ],
   "source": [
    "#Numeric values related to Education level of people visiting the library\n",
    "\n",
    "x, y, hue = \"education_level\", \"prop\", \"has_visited\"\n",
    "\n",
    "prop_df = (df[x]\n",
    "           .groupby(df[hue])\n",
    "           .value_counts(normalize=True)\n",
    "           .rename(y)\n",
    "           .reset_index())\n",
    "\n",
    "#print(prop_df)\n",
    "\n",
    "print(totalcol['education_level'].value_counts())\n",
    "print(totalcol['has_visited'].value_counts())\n",
    "print(totalcol['has_visited'].groupby(totalcol['education_level']).value_counts())\n",
    "print(prop_df)"
   ]
  },
  {
   "cell_type": "markdown",
   "metadata": {},
   "source": [
    "<h3>Second Example</h3><br>\n",
    "\n",
    "<h4>1 sided z test with a significance level of 0.01</h4>\n",
    "Is education level a predictor for library visitation?<br>\n",
    "<br>\n",
    "<u>Values:</u><br>\n",
    "Population 1: High school diploma and hasn't visited<br>\n",
    "Proportion= .375342<br>\n",
    "n = 365<br>\n",
    "<br>\n",
    "Population 2: High school diploma and has visited<br>\n",
    "Proportion -= .0.251373<br>\n",
    "n = 1639<br>\n",
    "<br>\n",
    "The proportion of visitors with a high school diploma is equal to or greater than those with a high school diploma that don't visit.\n",
    "$H_{0}$ = $P_{1}$ <= $P_{2}$<br>\n",
    "The proportion of visitors with a high school diploma is lower that nonvisitors.\n",
    "$H_{alt}$ = $P_{1}$ > $P_{2}$<br>\n",
    "\n",
    "\n",
    "$\\ p = \\frac{(p1 * n1 + p2 * n2)}{(n1 + n2)}$<br>\n",
    "\n",
    "$\\ p = \\frac{(.375342 * 365 + .251373 * 1639)}{365+1639}$<br>\n",
    "\n",
    "p=0.274<br>\n",
    "<br>\n",
    "<h4> Standard Error</h4>\n",
    "$\\ SE = \\sqrt{p(1-p) * (\\frac{1}{n1} + \\frac{1}{n2})}$<br>\n",
    "\n",
    "$\\ SE = \\sqrt{(0.274(1-0.274) * (\\frac{1}{365} + \\frac{1}{1639}))}$<br>\n",
    "<br>\n",
    "SE = 0.000666<br>\n",
    "<br>\n",
    "<h4> z score </h4>\n",
    "$\\ z = \\frac{p1 - p2}{SE}$<br>\n",
    "$\\ z = \\frac{.375342 - .251373}{.000666}$<br>\n",
    "z = 186.14\n",
    "\n",
    "Probability of a z value of 186.14 = 0.0<br>\n",
    "0.0 is less than 0.01.  The null hypothesis is <b>rejected</b>.<br>\n",
    "High school graduation status is a significant predictor of library visitation."
   ]
  },
  {
   "cell_type": "markdown",
   "metadata": {},
   "source": [
    "In conclusion, based on the statistical analysis above, both marital status and education level should be significant predictors of library visitation.  The model built to predict visitation should have coefficients that weight these features more thn others. "
   ]
  },
  {
   "cell_type": "code",
   "execution_count": null,
   "metadata": {},
   "outputs": [],
   "source": []
  }
 ],
 "metadata": {
  "kernelspec": {
   "display_name": "Python 3",
   "language": "python",
   "name": "python3"
  },
  "language_info": {
   "codemirror_mode": {
    "name": "ipython",
    "version": 3
   },
   "file_extension": ".py",
   "mimetype": "text/x-python",
   "name": "python",
   "nbconvert_exporter": "python",
   "pygments_lexer": "ipython3",
   "version": "3.7.1"
  }
 },
 "nbformat": 4,
 "nbformat_minor": 2
}
