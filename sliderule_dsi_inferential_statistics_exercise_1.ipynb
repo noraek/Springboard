{
 "cells": [
  {
   "cell_type": "markdown",
   "metadata": {},
   "source": [
    "# What is the True Normal Human Body Temperature? \n",
    "\n",
    "#### Background\n",
    "\n",
    "The mean normal body temperature was held to be 37$^{\\circ}$C or 98.6$^{\\circ}$F for more than 120 years since it was first conceptualized and reported by Carl Wunderlich in a famous 1868 book. But, is this value statistically correct?"
   ]
  },
  {
   "cell_type": "markdown",
   "metadata": {},
   "source": [
    "<h3>Exercises</h3>\n",
    "\n",
    "<p>In this exercise, you will analyze a dataset of human body temperatures and employ the concepts of hypothesis testing, confidence intervals, and statistical significance.</p>\n",
    "\n",
    "<p>Answer the following questions <b>in this notebook below and submit to your Github account</b>.</p> \n",
    "\n",
    "<ol>\n",
    "<li>  Is the distribution of body temperatures normal? \n",
    "    <ul>\n",
    "    <li> Although this is not a requirement for the Central Limit Theorem to hold (read the introduction on Wikipedia's page about the CLT carefully: https://en.wikipedia.org/wiki/Central_limit_theorem), it gives us some peace of mind that the population may also be normally distributed if we assume that this sample is representative of the population.\n",
    "    <li> Think about the way you're going to check for the normality of the distribution. Graphical methods are usually used first, but there are also other ways: https://en.wikipedia.org/wiki/Normality_test\n",
    "    </ul>\n",
    "<li>  Is the sample size large? Are the observations independent?\n",
    "    <ul>\n",
    "    <li> Remember that this is a condition for the Central Limit Theorem, and hence the statistical tests we are using, to apply.\n",
    "    </ul>\n",
    "<li>  Is the true population mean really 98.6 degrees F?\n",
    "    <ul>\n",
    "    <li> First, try a bootstrap hypothesis test.\n",
    "    <li> Now, let's try frequentist statistical testing. Would you use a one-sample or two-sample test? Why?\n",
    "    <li> In this situation, is it appropriate to use the $t$ or $z$ statistic? \n",
    "    <li> Now try using the other test. How is the result be different? Why?\n",
    "    </ul>\n",
    "<li>  Draw a small sample of size 10 from the data and repeat both frequentist tests. \n",
    "    <ul>\n",
    "    <li> Which one is the correct one to use? \n",
    "    <li> What do you notice? What does this tell you about the difference in application of the $t$ and $z$ statistic?\n",
    "    </ul>\n",
    "<li>  At what temperature should we consider someone's temperature to be \"abnormal\"?\n",
    "    <ul>\n",
    "    <li> As in the previous example, try calculating everything using the boostrap approach, as well as the frequentist approach.\n",
    "    <li> Start by computing the margin of error and confidence interval. When calculating the confidence interval, keep in mind that you should use the appropriate formula for one draw, and not N draws.\n",
    "    </ul>\n",
    "<li>  Is there a significant difference between males and females in normal temperature?\n",
    "    <ul>\n",
    "    <li> What testing approach did you use and why?\n",
    "    <li> Write a story with your conclusion in the context of the original problem.\n",
    "    </ul>\n",
    "</ol>\n",
    "\n",
    "You can include written notes in notebook cells using Markdown: \n",
    "   - In the control panel at the top, choose Cell > Cell Type > Markdown\n",
    "   - Markdown syntax: http://nestacms.com/docs/creating-content/markdown-cheat-sheet\n",
    "\n",
    "#### Resources\n",
    "\n",
    "+ Information and data sources: http://www.amstat.org/publications/jse/datasets/normtemp.txt, http://www.amstat.org/publications/jse/jse_data_archive.htm\n",
    "+ Markdown syntax: http://nestacms.com/docs/creating-content/markdown-cheat-sheet\n",
    "\n",
    "****"
   ]
  },
  {
   "cell_type": "code",
   "execution_count": 2,
   "metadata": {},
   "outputs": [],
   "source": [
    "import pandas as pd\n",
    "import numpy as np\n",
    "import matplotlib.pyplot as plt\n",
    "import seaborn as sns\n",
    "\n",
    "df = pd.read_csv('data/human_body_temperature.csv')\n",
    "bodytemp = df['temperature']"
   ]
  },
  {
   "cell_type": "markdown",
   "metadata": {
    "collapsed": true
   },
   "source": [
    "1.  Is the distribution of body temperatures normal?\n",
    "\n",
    "The dataset has been presented graphically below with three graphs:  A Histogram, Swarmplot and Empirical Cumulative Distribution Function (ecdf).  Also the mean and median temperatures are very close: 98.25 and 98.3 respectively.  The distribution of the sample appears normal.here."
   ]
  },
  {
   "cell_type": "code",
   "execution_count": 3,
   "metadata": {},
   "outputs": [
    {
     "name": "stdout",
     "output_type": "stream",
     "text": [
      "Mean Temperature: 98.25\n",
      "Median Temperature: 98.3\n",
      "Temperature Standard Deviation: 0.73\n",
      "n = 130\n"
     ]
    }
   ],
   "source": [
    "print(\"Mean Temperature:\", round(np.mean(bodytemp), 2))\n",
    "print(\"Median Temperature:\", np.median(bodytemp))\n",
    "print(\"Temperature Standard Deviation:\", round(np.std(bodytemp), 2))\n",
    "print(\"n = 130\")"
   ]
  },
  {
   "cell_type": "code",
   "execution_count": 4,
   "metadata": {},
   "outputs": [
    {
     "data": {
      "image/png": "[encoded data removed]",
      "text/plain": [
       "<Figure size 432x288 with 1 Axes>"
      ]
     },
     "metadata": {
      "needs_background": "light"
     },
     "output_type": "display_data"
    },
    {
     "name": "stdout",
     "output_type": "stream",
     "text": [
      "Body Temperature Mean: 98.24923076923078\n",
      "Median Temperature: 98.3\n"
     ]
    }
   ],
   "source": [
    "_ = plt.hist(bodytemp, density=True, bins = 20)\n",
    "_ = plt.xlabel('temperature')\n",
    "_ = plt.ylabel('percent')\n",
    "_ = plt.axvline(np.mean(bodytemp), color='r', linestyle='dashed', linewidth=2)\n",
    "_ = plt.axvline(np.median(bodytemp), color='r', linestyle = 'solid', linewidth=2)\n",
    "\n",
    "plt.show()\n",
    "print(\"Body Temperature Mean:\", np.mean(bodytemp))\n",
    "print(\"Median Temperature:\", np.median(bodytemp))"
   ]
  },
  {
   "cell_type": "code",
   "execution_count": 5,
   "metadata": {},
   "outputs": [
    {
     "data": {
      "text/plain": [
       "<matplotlib.axes._subplots.AxesSubplot at 0x28325c26198>"
      ]
     },
     "execution_count": 5,
     "metadata": {},
     "output_type": "execute_result"
    },
    {
     "data": {
      "image/png": "[encoded data removed]",
      "text/plain": [
       "<Figure size 432x288 with 1 Axes>"
      ]
     },
     "metadata": {
      "needs_background": "light"
     },
     "output_type": "display_data"
    }
   ],
   "source": [
    "sns.swarmplot(x='gender', y='temperature', data=df)"
   ]
  },
  {
   "cell_type": "markdown",
   "metadata": {},
   "source": [
    "2.  Is the sample size large?  Are the observations independent?  According to the Central Limit Theorum, sample sizes over 30 can be considered to be large enough to determine normality.  This sample size is 130 individuals.  The observations are independent because the temperature of one person does not impact the temperature of another person."
   ]
  },
  {
   "cell_type": "markdown",
   "metadata": {},
   "source": [
    "3.  Is the true population mean really 98.6 degrees F?  We can test the null hypothesis $H_{0}$ that the mean is 98.6 degrees F.  The alternative hypothesis, $H_{alt}$ is that the mean is not 98.6 degrees F.\n",
    "\n",
    "Below is a bootstrap hypothesis test where 10,000 random samples are generated from the original 130 data points and the mean calculated for each.  Of the 10,000 samples, 49.67% were greater or equal to 98.6, well within one standard deviation from the sample mean of 98.25.  The null hypothesis is not rejected."
   ]
  },
  {
   "cell_type": "code",
   "execution_count": 43,
   "metadata": {},
   "outputs": [
    {
     "name": "stdout",
     "output_type": "stream",
     "text": [
      "p =  1.0\n"
     ]
    }
   ],
   "source": [
    "### Bootstrap replication\n",
    "bs_replicates = np.empty(10000)\n",
    "\n",
    "def bootstrap_replicate_id(data, func):\n",
    "    bs_sample = np.random.choice(data, len(data))\n",
    "    return func(bs_sample)\n",
    "\n",
    "for i in range(10000):\n",
    "    bs_replicates[i] = bootstrap_replicate_id(bodytemp, np.mean)\n",
    "    \n",
    "p=np.sum(bs_replicates <= 98.6)/10000\n",
    "\n",
    "print(\"p = \", p)"
   ]
  },
  {
   "cell_type": "markdown",
   "metadata": {},
   "source": [
    "### Frequentist Statistical Testing\n",
    "#### Two tail z test:  This is a two tail test because the real mean temperature could be higher or lower than 98.6.\n",
    "#### The z test is used because 130 samples is larger than 30, the cutoff for a t test.\n",
    "\n",
    "z = sample mean - population mean / (standard deviation/sqrt of the sample size)\n",
    "\n",
    "$\\ z = \\frac{98.3-98.6}{\\frac{.73}{\\sqrt{130}}}$\n",
    "\n",
    "z = -5\n",
    "\n",
    "The probability of having a t score of -5 at 129 df is 0.0000\n"
   ]
  },
  {
   "cell_type": "markdown",
   "metadata": {},
   "source": [
    "5.  At what temperature should we consider someone's temperature to be abnormal?  A temperature is abnormal when it is more than two standard deviations away from the mean.  With a sample mean of 98.3 and a standard deviation of .73, an abnormal temperature would be less than 97.6 or greater than 99.0."
   ]
  },
  {
   "cell_type": "markdown",
   "metadata": {},
   "source": [
    "6.  Is there a significant difference between males and females in normal temperature?  $H_{0}$ is that female mean equals male mean.  $H_{alt}$ is that they don't.  I desided to use 10000 bootstrap replicants to model male and female temperature distributions.  The female mean temperature is 98.4 degrees and the male mean temperature is 98.1."
   ]
  },
  {
   "cell_type": "code",
   "execution_count": 13,
   "metadata": {},
   "outputs": [
    {
     "name": "stdout",
     "output_type": "stream",
     "text": [
      "female sample mean: 98.39384615384613\n",
      "male sample mean: 98.1046153846154\n"
     ]
    }
   ],
   "source": [
    "female_temps = df['gender'] == 'F'\n",
    "male_temps = df['gender'] == 'M'\n",
    "\n",
    "female_records = df[female_temps]\n",
    "male_records = df[male_temps]\n",
    "\n",
    "empirical_diff_mean = np.mean(female_records['temperature']) - np.mean(male_records['temperature'])\n",
    "\n",
    "print(\"female sample mean:\", np.mean(female_records['temperature']))\n",
    "print(\"male sample mean:\", np.mean(male_records['temperature']))\n",
    "\n",
    "bs_replicates_f = np.empty(10000)\n",
    "bs_replicates_m = np.empty(10000)\n",
    "\n",
    "for i in range(10000):\n",
    "    bs_replicates_f[i] = bootstrap_replicate_id(female_records['temperature'], np.mean)\n",
    "\n",
    "for i in range(10000):\n",
    "    bs_replicates_m[i] = bootstrap_replicate_id(male_records['temperature'], np.mean)"
   ]
  },
  {
   "cell_type": "code",
   "execution_count": 32,
   "metadata": {},
   "outputs": [
    {
     "data": {
      "image/png": "[encoded data removed]",
      "text/plain": [
       "<Figure size 432x288 with 1 Axes>"
      ]
     },
     "metadata": {
      "needs_background": "light"
     },
     "output_type": "display_data"
    }
   ],
   "source": [
    "_ = plt.hist(bs_replicates_f, color = 'r', bins = 30, density=True, label='female')\n",
    "_ = plt.hist(bs_replicates_m, color = 'blue', bins = 30, density=True, label='male')\n",
    "_ = plt.xlabel('Temp F')\n",
    "_ = plt.ylabel('density')\n",
    "_ = plt.legend('fm')\n",
    "plt.show()"
   ]
  },
  {
   "cell_type": "code",
   "execution_count": 34,
   "metadata": {},
   "outputs": [
    {
     "name": "stdout",
     "output_type": "stream",
     "text": [
      "p = : 0.5035\n"
     ]
    }
   ],
   "source": [
    "bs_replicates = bs_replicates_m - bs_replicates_f\n",
    "\n",
    "p = np.sum(bs_replicates >= (np.mean(bs_replicates_m)-np.mean(bs_replicates_f)))/len(bs_replicates)\n",
    "\n",
    "print(\"p = :\", p)"
   ]
  },
  {
   "cell_type": "markdown",
   "metadata": {},
   "source": [
    "Although there is a visible difference between the distributions of the results of the bootstrap modeling there is sufficient overlap to convey that the difference is not statistically siginificant.  The p value of .5035 is not small enough to reject the null hypothesis.\n"
   ]
  }
 ],
 "metadata": {
  "kernelspec": {
   "display_name": "Python 3",
   "language": "python",
   "name": "python3"
  },
  "language_info": {
   "codemirror_mode": {
    "name": "ipython",
    "version": 3
   },
   "file_extension": ".py",
   "mimetype": "text/x-python",
   "name": "python",
   "nbconvert_exporter": "python",
   "pygments_lexer": "ipython3",
   "version": "3.7.1"
  }
 },
 "nbformat": 4,
 "nbformat_minor": 1
}
